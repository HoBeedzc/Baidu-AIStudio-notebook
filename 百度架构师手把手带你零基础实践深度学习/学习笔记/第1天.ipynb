{
 "metadata": {
  "language_info": {
   "codemirror_mode": {
    "name": "ipython",
    "version": 3
   },
   "file_extension": ".py",
   "mimetype": "text/x-python",
   "name": "python",
   "nbconvert_exporter": "python",
   "pygments_lexer": "ipython3",
   "version": 3
  },
  "orig_nbformat": 2
 },
 "nbformat": 4,
 "nbformat_minor": 2,
 "cells": [
  {
   "cell_type": "markdown",
   "metadata": {},
   "source": [
    "# 第1天 课节2-课节3 第一章：零基础入门深度学习\n"
   ]
  },
  {
   "cell_type": "markdown",
   "metadata": {},
   "source": [
    "## 机器学习和深度学习综述\n",
    "### 人工智能、机器学习、深度学习的关系\n",
    "\n",
    "人工智能 > 机器学习 > 深度学习\n",
    "\n",
    "机器学习的实现：训练和预测\n",
    "\n",
    "模型有效性的基本条件：能够拟合已知样本\n",
    "\n",
    "损失函数/评价函数：衡量模型预测值和真实值差距的函数\n",
    "\n",
    "**模型假设、评价函数和优化算法是构成模型的三个部分**\n",
    "\n",
    "深度学习构建模型和完成训练的五步法：\n",
    "- 数据处理\n",
    "- 模型设计\n",
    "- 训练配置\n",
    "- 训练过程\n",
    "- 模型保存"
   ]
  },
  {
   "cell_type": "code",
   "execution_count": null,
   "metadata": {},
   "outputs": [],
   "source": [
    "# 波士顿房价预测模型\n"
   ]
  }
 ]
}