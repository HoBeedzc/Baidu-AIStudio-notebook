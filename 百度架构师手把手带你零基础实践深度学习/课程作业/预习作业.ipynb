{
 "metadata": {
  "language_info": {
   "codemirror_mode": {
    "name": "ipython",
    "version": 3
   },
   "file_extension": ".py",
   "mimetype": "text/x-python",
   "name": "python",
   "nbconvert_exporter": "python",
   "pygments_lexer": "ipython3",
   "version": "3.7.8-final"
  },
  "orig_nbformat": 2,
  "kernelspec": {
   "name": "python_defaultSpec_1596679545889",
   "display_name": "Python 3.7.8 64-bit"
  }
 },
 "nbformat": 4,
 "nbformat_minor": 2,
 "cells": [
  {
   "cell_type": "markdown",
   "metadata": {},
   "source": [
    "作业一：飞桨本地测试代码运行成功截图\n",
    "\n",
    "####请在下面cell中上传飞桨安装成功的截图####"
   ]
  },
  {
   "cell_type": "code",
   "execution_count": 1,
   "metadata": {
    "tags": []
   },
   "outputs": [
    {
     "output_type": "stream",
     "name": "stdout",
     "text": "Running Verify Fluid Program ... \nYour Paddle Fluid works well on SINGLE GPU or CPU.\nYour Paddle Fluid works well on MUTIPLE GPU or CPU.\nYour Paddle Fluid is installed successfully! Let's start deep Learning with Paddle Fluid now\n"
    }
   ],
   "source": [
    "import paddle.fluid \n",
    "paddle.fluid.install_check.run_check()"
   ]
  },
  {
   "cell_type": "markdown",
   "metadata": {},
   "source": [
    "作业二：9*9乘法表\n",
    "\n",
    "####请在下面的cell中编写代码，按照下图所示格式，输出9*9乘法表####"
   ]
  },
  {
   "cell_type": "code",
   "execution_count": 1,
   "metadata": {
    "tags": []
   },
   "outputs": [
    {
     "output_type": "stream",
     "name": "stdout",
     "text": "1*1=1 \n1*2=2 2*2=4 \n1*3=3 2*3=6 3*3=9 \n1*4=4 2*4=8 3*4=12 4*4=16 \n1*5=5 2*5=10 3*5=15 4*5=20 5*5=25 \n1*6=6 2*6=12 3*6=18 4*6=24 5*6=30 6*6=36 \n1*7=7 2*7=14 3*7=21 4*7=28 5*7=35 6*7=42 7*7=49 \n1*8=8 2*8=16 3*8=24 4*8=32 5*8=40 6*8=48 7*8=56 8*8=64 \n1*9=9 2*9=18 3*9=27 4*9=36 5*9=45 6*9=54 7*9=63 8*9=72 9*9=81 \n"
    }
   ],
   "source": [
    "for i in range(1,10):\n",
    "    for j in range(1,i+1):\n",
    "        print(\"{}*{}={}\".format(j,i,j*i),end = \" \")\n",
    "    print()"
   ]
  },
  {
   "cell_type": "markdown",
   "metadata": {},
   "source": [
    "这个作业就是个预习作业，没啥可说的。"
   ]
  }
 ]
}